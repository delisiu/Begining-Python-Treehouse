{
 "cells": [
  {
   "cell_type": "code",
   "execution_count": 39,
   "metadata": {},
   "outputs": [
    {
     "data": {
      "text/plain": [
       "False"
      ]
     },
     "execution_count": 39,
     "metadata": {},
     "output_type": "execute_result"
    }
   ],
   "source": [
    "import random\n",
    "\n",
    "\n",
    "class Thief:\n",
    "    sneaky = True\n",
    "    \n",
    "    def pickpocket(self):\n",
    "#        print(\"Called by {}\".format(self))\n",
    "        if self.sneaky:\n",
    "            return bool(random.randint(0,1))\n",
    "        return False\n",
    "    \n",
    "    \n",
    "kenneth = Thief()\n",
    "#print(\"kenneth.sneaky = \",kenneth.sneaky)\n",
    "#print(\"Thief.sneaky = \",Thief.sneaky)\n",
    "\n",
    "kenneth.sneaky = False\n",
    "#print(\"kenneth.sneaky = \",kenneth.sneaky)\n",
    "#print(\"Thief.sneaky = \",Thief.sneaky)\n",
    "\n",
    "\n",
    "# Thief.pickpocket() #TypeError\n",
    "#Thief.pickpocket(kenneth)\n",
    "\n",
    "kenneth.pickpocket()"
   ]
  },
  {
   "cell_type": "code",
   "execution_count": 55,
   "metadata": {},
   "outputs": [
    {
     "name": "stdout",
     "output_type": "stream",
     "text": [
      "<__main__.Student object at 0x0000000005202470>\n"
     ]
    }
   ],
   "source": [
    "class Student:\n",
    "    name = \"MD\"\n",
    "    def praise(self):\n",
    "        return \"You're doing a great job, {}\".format(self.name)\n",
    "\n",
    "\n",
    "name = Student()\n"
   ]
  },
  {
   "cell_type": "code",
   "execution_count": 58,
   "metadata": {},
   "outputs": [],
   "source": [
    "class Student:\n",
    "    name = \"Your Name\"\n",
    "    \n",
    "    def praise(self):\n",
    "        return \"You inspire me, {}\".format(self.name)\n",
    "    \n",
    "    def reassurance(self):\n",
    "        return \"Chin up, {}. You'll get it next time!\".format(self.name)\n",
    "    \n",
    "    grade = 55\n",
    "    \n",
    "    def feedback(self):\n",
    "        if grade > 50:\n",
    "            return self.praise()\n",
    "        self.reassurance"
   ]
  },
  {
   "cell_type": "code",
   "execution_count": 63,
   "metadata": {},
   "outputs": [
    {
     "data": {
      "text/plain": [
       "True"
      ]
     },
     "execution_count": 63,
     "metadata": {},
     "output_type": "execute_result"
    }
   ],
   "source": [
    "import random\n",
    "\n",
    "\n",
    "class Thief:\n",
    "    sneaky = True\n",
    "    \n",
    "    def pickpocket(self):\n",
    "#        print(\"Called by {}\".format(self))\n",
    "        if self.sneaky:\n",
    "            return bool(random.randint(0,1))\n",
    "        return False\n",
    "    def hide(self, light_level):\n",
    "        return self.sneaky and light_level <10\n",
    "    \n",
    "kenneth = Thief()\n",
    "kenneth.hide(4)"
   ]
  },
  {
   "cell_type": "code",
   "execution_count": 75,
   "metadata": {},
   "outputs": [
    {
     "name": "stdout",
     "output_type": "stream",
     "text": [
      "Kenneth\n",
      "False\n"
     ]
    }
   ],
   "source": [
    "import random\n",
    "\n",
    "\n",
    "class Thief:\n",
    "    sneaky = True\n",
    "    \n",
    "    def __init__ (self, name, sneaky = True, **kwargs):\n",
    "        self.name = name\n",
    "        self.sneaky = sneaky\n",
    "    \n",
    "    def pickpocket(self):\n",
    "        return self.sneaky and bool(random.randint(0,1))\n",
    "\n",
    "    \n",
    "    def hide(self, light_level):\n",
    "        return self.sneaky and light_level <10\n",
    "    \n",
    "#kenneth = Thief()\n",
    "kenneth = Thief(\"Kenneth\", False)\n",
    "print(kenneth.name)\n",
    "print(kenneth.sneaky)"
   ]
  },
  {
   "cell_type": "code",
   "execution_count": 76,
   "metadata": {},
   "outputs": [
    {
     "name": "stdout",
     "output_type": "stream",
     "text": [
      "Kenneth\n",
      "True\n",
      "Wit\n"
     ]
    }
   ],
   "source": [
    "import random\n",
    "\n",
    "\n",
    "class Thief:\n",
    "    sneaky = True\n",
    "    \n",
    "    def __init__ (self, name, sneaky = True, **kwargs):\n",
    "        self.name = name\n",
    "        self.sneaky = sneaky\n",
    "        \n",
    "        for key, value in kwargs.items():\n",
    "            setattr(self, key, value)\n",
    "    \n",
    "    def pickpocket(self):\n",
    "        return self.sneaky and bool(random.randint(0,1))\n",
    "\n",
    "    \n",
    "    def hide(self, light_level):\n",
    "        return self.sneaky and light_level <10\n",
    "    \n",
    "#kenneth = Thief()\n",
    "kenneth = Thief(\"Kenneth\", scars=None, favorite_weapon=\"Wit\")\n",
    "print(kenneth.name)\n",
    "print(kenneth.sneaky)\n",
    "print(kenneth.favorite_weapon)"
   ]
  },
  {
   "cell_type": "markdown",
   "metadata": {},
   "source": [
    "Challenge Task 1 of 2\n",
    "Our Student class is coming along nicely!\n",
    "\n",
    "I'd like to be able to set the name attribute at the same time that I create an instance. Can you add the code for doing that? Remember, you'll need to override the __init__ method."
   ]
  },
  {
   "cell_type": "code",
   "execution_count": 77,
   "metadata": {},
   "outputs": [],
   "source": [
    "class Student:\n",
    "    name = \"Your Name\"\n",
    "    \n",
    "    def __init__ (self, name):\n",
    "        self.name = name\n",
    "    \n",
    "    def praise(self):\n",
    "        return \"You inspire me, {}\".format(self.name)\n",
    "    \n",
    "    def reassurance(self):\n",
    "        return \"Chin up, {}. You'll get it next time!\".format(self.name)\n",
    "    \n",
    "    def feedback(self, grade):\n",
    "        if grade > 50:\n",
    "            return self.praise()\n",
    "        return self.reassurance()"
   ]
  },
  {
   "cell_type": "markdown",
   "metadata": {},
   "source": [
    "Challenge Task 2 of 2\n",
    "\n",
    "Great!\n",
    "\n",
    "Sometimes I have other attributes \n",
    "I need to store on a Student instance, though. \n",
    "Can you use **kwargs and setattr to add \n",
    "attributes for any other key/value pairs \n",
    "I want to send to the instance when I create it?"
   ]
  },
  {
   "cell_type": "code",
   "execution_count": 78,
   "metadata": {},
   "outputs": [],
   "source": [
    "class Student:\n",
    "    name = \"Your Name\"\n",
    "    \n",
    "    def __init__ (self, name, **kwargs):\n",
    "        self.name = name\n",
    "\n",
    "        for key, value in kwargs.items():\n",
    "            setattr(self, key, value)\n",
    "    \n",
    "    def praise(self):\n",
    "        return \"You inspire me, {}\".format(self.name)\n",
    "    \n",
    "    def reassurance(self):\n",
    "        return \"Chin up, {}. You'll get it next time!\".format(self.name)\n",
    "    \n",
    "    def feedback(self, grade):\n",
    "        if grade > 50:\n",
    "            return self.praise()\n",
    "        return self.reassurance()"
   ]
  },
  {
   "cell_type": "markdown",
   "metadata": {},
   "source": [
    "Challenge Task 1 of 3\n",
    "OK, let's combine everything we've done so far into one challenge!\n",
    "\n",
    "First, create a class named RaceCar. In the __init__ for the class, take arguments for color and fuel_remaining. Be sure to set these as attributes on the instance.\n",
    "\n",
    "Also, use setattr to take any other keyword arguments that come in."
   ]
  },
  {
   "cell_type": "code",
   "execution_count": 80,
   "metadata": {},
   "outputs": [],
   "source": [
    "class RaceCar:\n",
    "    def __init__ (self, color, fuel_remaining, **kwargs):\n",
    "        self.color = color\n",
    "        self.fuel_remaining = fuel_remaining\n",
    "       \n",
    "        for key, value in kwargs.items():\n",
    "            setattr(self, key, value)\n"
   ]
  },
  {
   "cell_type": "markdown",
   "metadata": {},
   "source": [
    "Challenge Task 2 of 3\n",
    "\n",
    "Vrroom!\n",
    "\n",
    "OK, now let's add a method named run_lap. It'll take a length argument. It should reduce the fuel_remaining attribute by length multiplied by 0.125.\n",
    "\n",
    "Oh, and add a laps attribute to the class, set to 0, and increment it each time the run_lap method is called."
   ]
  },
  {
   "cell_type": "code",
   "execution_count": 84,
   "metadata": {},
   "outputs": [],
   "source": [
    "class RaceCar:\n",
    "\n",
    "    def __init__ (self, color, fuel_remaining, **kwargs):\n",
    "        self.color = color\n",
    "        self.fuel_remaining = fuel_remaining\n",
    "        self.laps = 0\n",
    "\n",
    "        for key, value in kwargs.items():\n",
    "            setattr(self, key, value)\n",
    "\n",
    "    def run_lap(self, length):\n",
    "        self.fuel_remaining -= length * 0.125\n",
    "        self.laps = self.laps + 1"
   ]
  },
  {
   "cell_type": "markdown",
   "metadata": {},
   "source": [
    "Challenge Task 3 of 3\n",
    "\n",
    "Great! One last thing.\n",
    "\n",
    "In Python, attributes defined on the class, but not an instance, are universal. So if you change the value of the attribute, any instance that doesn't have it set explicitly will have its value changed, too!\n",
    "\n",
    "For example, right now, if we made a RaceCar instance named red_car, then did RaceCar.laps = 10, red_car.laps would be 10!\n",
    "\n",
    "To prevent this, be sure to set the laps attribute inside of your __init__ method (it doesn't have to be a keyword argument, though). If you already did it, just hit that \"run\" button and you're good to go!"
   ]
  },
  {
   "cell_type": "code",
   "execution_count": 101,
   "metadata": {},
   "outputs": [
    {
     "name": "stdout",
     "output_type": "stream",
     "text": [
      "0\n",
      "148.25\n",
      "1\n"
     ]
    }
   ],
   "source": [
    "class RaceCar:\n",
    "\n",
    "    def __init__ (self, color, fuel_remaining, **kwargs):\n",
    "        self.color = color\n",
    "        self.fuel_remaining = fuel_remaining\n",
    "        self.laps = 0\n",
    "\n",
    "        for key, value in kwargs.items():\n",
    "            setattr(self, key, value)\n",
    "\n",
    "    def run_lap(self, length):\n",
    "        self.fuel_remaining -= length * 0.125\n",
    "        self.laps = self.laps + 1\n",
    "        \n",
    "dodge=RaceCar(\"red\",150)\n",
    "print(dodge.laps)\n",
    "\n",
    "dodge.run_lap(14)\n",
    "print(dodge.fuel_remaining)\n",
    "print(dodge.laps)"
   ]
  },
  {
   "cell_type": "code",
   "execution_count": 13,
   "metadata": {},
   "outputs": [
    {
     "name": "stdout",
     "output_type": "stream",
     "text": [
      "Kenneth\n",
      "True\n",
      "False\n"
     ]
    }
   ],
   "source": [
    "import random\n",
    "\n",
    "class Character:\n",
    "    def __init__(self, name, **kwargs):\n",
    "        self.name = name\n",
    "        \n",
    "        for key, value in kwargs.items():\n",
    "            setattr(self, key, value)\n",
    "    \n",
    "    \n",
    "class Thief(Character):\n",
    "    sneaky = True\n",
    "    \n",
    "    def pickpocket(self):\n",
    "        return self.sneaky and bool(random.randint(0,1))\n",
    "\n",
    "    \n",
    "    def hide(self, light_level):\n",
    "        return self.sneaky and light_level <10\n",
    "    \n",
    "#kenneth = Thief()\n",
    "kenneth = Thief(\"Kenneth\")\n",
    "print(kenneth.name)\n",
    "print(kenneth.sneaky)\n",
    "kenneth.sneaky = False\n",
    "print(kenneth.pickpocket())"
   ]
  },
  {
   "cell_type": "code",
   "execution_count": 24,
   "metadata": {},
   "outputs": [
    {
     "name": "stdout",
     "output_type": "stream",
     "text": [
      "Kenneth\n",
      "False\n",
      "True\n"
     ]
    }
   ],
   "source": [
    "import random\n",
    "\n",
    "class Character:\n",
    "    def __init__(self, name, **kwargs):\n",
    "        self.name = name\n",
    "        \n",
    "        for key, value in kwargs.items():\n",
    "            setattr(self, key, value)\n",
    "    \n",
    "    \n",
    "class Thief(Character):\n",
    "    sneaky = True\n",
    "    \n",
    "    def __init__(self, name, sneaky = True, **kwargs):\n",
    "        super().__init__(name, **kwargs)\n",
    "        self.sneaky = sneaky\n",
    "    \n",
    "    def pickpocket(self):\n",
    "        return self.sneaky and bool(random.randint(0,1))\n",
    "\n",
    "    def hide(self, light_level):\n",
    "        return self.sneaky and light_level <10\n",
    "    \n",
    "#kenneth = Thief()\n",
    "kenneth = Thief(\"Kenneth\", sneaky = False, clever = True)\n",
    "print(kenneth.name)\n",
    "print(kenneth.sneaky)\n",
    "print(kenneth.clever)"
   ]
  },
  {
   "cell_type": "markdown",
   "metadata": {},
   "source": [
    "Challenge Task 1 of 3\n",
    "\n",
    "I've made you a super-simple Inventory class that would let someone store items in it. Not the most useful class, but we'll build something better in a few videos.\n",
    "\n",
    "For now, though, I need you to create a new class, SortedInventory that should be a subclass of Inventory.\n",
    "\n",
    "You can just put pass in the body of your class for this step."
   ]
  },
  {
   "cell_type": "code",
   "execution_count": 25,
   "metadata": {},
   "outputs": [],
   "source": [
    "class Inventory:\n",
    "    def __init__(self):\n",
    "        self.slots = []\n",
    "\n",
    "    def add_item(self, item):\n",
    "        self.slots.append(item)\n",
    "        \n",
    "class SortedInventory(Inventory):\n",
    "    pass"
   ]
  },
  {
   "cell_type": "markdown",
   "metadata": {},
   "source": [
    "Challenge Task 2 of 3\n",
    "\n",
    "Great! Now override the add_item method. Use super() in it to make sure the item still gets added to the list."
   ]
  },
  {
   "cell_type": "code",
   "execution_count": 27,
   "metadata": {},
   "outputs": [],
   "source": [
    "class Inventory:\n",
    "    def __init__(self):\n",
    "        self.slots = []\n",
    "\n",
    "    def add_item(self, item):\n",
    "        self.slots.append(item)\n",
    "        \n",
    "class SortedInventory(Inventory):\n",
    "    def add_item(self,item):\n",
    "        super().add_item(item)"
   ]
  },
  {
   "cell_type": "markdown",
   "metadata": {},
   "source": [
    "Challenge Task 3 of 3\n",
    "\n",
    "Sorted inventories should be just that: sorted. Right now, we just add an item onto the slots list whenever our add_item method is called. Use the list.sort() method to make sure the slots list gets sorted after an item is added. Only do this in the SortedInventory class."
   ]
  },
  {
   "cell_type": "code",
   "execution_count": 28,
   "metadata": {},
   "outputs": [],
   "source": [
    "class Inventory:\n",
    "    def __init__(self):\n",
    "        self.slots = []\n",
    "\n",
    "    def add_item(self, item):\n",
    "        self.slots.append(item)\n",
    "        \n",
    "class SortedInventory(Inventory):\n",
    "    def add_item(self,item):\n",
    "        super().add_item(item)\n",
    "        self.slots.sort()"
   ]
  },
  {
   "cell_type": "code",
   "execution_count": null,
   "metadata": {},
   "outputs": [],
   "source": [
    "import random\n",
    "\n",
    "class Character:\n",
    "    def __init__(self, name, **kwargs):\n",
    "        self.name = name\n",
    "        \n",
    "        for key, value in kwargs.items():\n",
    "            setattr(self, key, value)\n",
    "    \n",
    "    \n",
    "class Thief(Character):\n",
    "    sneaky = True\n",
    "    \n",
    "    def __init__(self, name, sneaky = True, **kwargs):\n",
    "        super().__init__(name, **kwargs)\n",
    "        self.sneaky = sneaky\n",
    "    \n",
    "    def pickpocket(self):\n",
    "        return self.sneaky and bool(random.randint(0,1))\n",
    "\n",
    "    def hide(self, light_level):\n",
    "        return self.sneaky and light_level <10\n",
    "    \n",
    "#kenneth = Thief()\n",
    "kenneth = Thief(\"Kenneth\", sneaky = False, clever = True)\n",
    "print(kenneth.name)\n",
    "print(kenneth.sneaky)\n",
    "print(kenneth.clever)"
   ]
  },
  {
   "cell_type": "markdown",
   "metadata": {},
   "source": [
    "Challenge Task 1 of 1\n",
    "\n",
    "Alright, here's a fun task!\n",
    "\n",
    "Create a function named combiner that takes a single argument, which will be a list made up of strings and numbers.\n",
    "\n",
    "Return a single string that is a combination of all of the strings in the list and then the sum of all of the numbers. For example, with the input [\"apple\", 5.2, \"dog\", 8], combiner would return \"appledog13.2\". Be sure to use isinstance to solve this as I might try to trick you"
   ]
  },
  {
   "cell_type": "code",
   "execution_count": 30,
   "metadata": {},
   "outputs": [],
   "source": [
    "def combiner(list):\n",
    "    num = 0\n",
    "    str = []\n",
    "    for item in list: \n",
    "        if isinstance(item, int):\n",
    "           num += item\n",
    "        elif isinstance(item, float):\n",
    "            num += item\n",
    "        else: \n",
    "            str.append(item)\n",
    "\n",
    "    return \"{}{}\".format(\"\".join(str), num)\n"
   ]
  },
  {
   "cell_type": "code",
   "execution_count": 48,
   "metadata": {},
   "outputs": [
    {
     "name": "stdout",
     "output_type": "stream",
     "text": [
      "5\n",
      "5\n",
      "5\n",
      "5\n",
      "5.0\n"
     ]
    },
    {
     "ename": "TypeError",
     "evalue": "unsupported operand type(s) for +: 'Numstring' and 'Numstring'",
     "output_type": "error",
     "traceback": [
      "\u001b[1;31m---------------------------------------------------------------------------\u001b[0m",
      "\u001b[1;31mTypeError\u001b[0m                                 Traceback (most recent call last)",
      "\u001b[1;32m<ipython-input-48-98016a0bf09f>\u001b[0m in \u001b[0;36m<module>\u001b[1;34m\u001b[0m\n\u001b[0;32m     18\u001b[0m \u001b[0mprint\u001b[0m\u001b[1;33m(\u001b[0m\u001b[0mint\u001b[0m\u001b[1;33m(\u001b[0m\u001b[0mfive\u001b[0m\u001b[1;33m)\u001b[0m\u001b[1;33m)\u001b[0m\u001b[1;33m\u001b[0m\u001b[1;33m\u001b[0m\u001b[0m\n\u001b[0;32m     19\u001b[0m \u001b[0mprint\u001b[0m\u001b[1;33m(\u001b[0m\u001b[0mfloat\u001b[0m\u001b[1;33m(\u001b[0m\u001b[0mfive\u001b[0m\u001b[1;33m)\u001b[0m\u001b[1;33m)\u001b[0m\u001b[1;33m\u001b[0m\u001b[1;33m\u001b[0m\u001b[0m\n\u001b[1;32m---> 20\u001b[1;33m \u001b[0mprint\u001b[0m\u001b[1;33m(\u001b[0m\u001b[0mfive\u001b[0m \u001b[1;33m+\u001b[0m \u001b[0mNumstring\u001b[0m\u001b[1;33m(\u001b[0m\u001b[1;36m4\u001b[0m\u001b[1;33m)\u001b[0m\u001b[1;33m)\u001b[0m \u001b[1;31m#error\u001b[0m\u001b[1;33m\u001b[0m\u001b[1;33m\u001b[0m\u001b[0m\n\u001b[0m",
      "\u001b[1;31mTypeError\u001b[0m: unsupported operand type(s) for +: 'Numstring' and 'Numstring'"
     ]
    }
   ],
   "source": [
    "class Numstring:\n",
    "    def __init__(self, value):\n",
    "        self.value = str(value)\n",
    "    \n",
    "    def __str__(self):\n",
    "        return self.value\n",
    "    \n",
    "    def __int__(self):\n",
    "        return int(self.value)\n",
    "    \n",
    "    def __float__(self):\n",
    "        return float(self.value)\n",
    "\n",
    "five = Numstring(5)    \n",
    "print (five)\n",
    "print(str(five))\n",
    "print(five)\n",
    "print(int(five))\n",
    "print(float(five))\n",
    "print(five + Numstring(4)) #error"
   ]
  },
  {
   "cell_type": "markdown",
   "metadata": {},
   "source": [
    "Challenge Task 1 of 1\n",
    "\n",
    "Let's use __str__ to turn Python code into Morse code! OK, not really, but we can turn class instances into a representation of their Morse code counterparts.\n",
    "\n",
    "I want you to add a __str__ method to the Letter class that loops through the pattern attribute of an instance and returns \"dot\" for every \".\" (period) and \"dash\" for every \"_\" (underscore). Join them with a hyphen.\n",
    "\n",
    "I've included an S class as an example (I'll generate the others when I test your code) and it's __str__ output should be \"dot-dot-dot\"."
   ]
  },
  {
   "cell_type": "code",
   "execution_count": 45,
   "metadata": {},
   "outputs": [],
   "source": [
    "class Letter:\n",
    "    def __init__(self, pattern=None):\n",
    "        self.pattern = pattern\n",
    "\n",
    "    def __str__(self):\n",
    "        value = []\n",
    "        for i in self.pattern:\n",
    "            if i == \".\":\n",
    "                value.append(\"dot\")\n",
    "            elif i == \"_\":\n",
    "                value.append(\"dash\")\n",
    "        return \"-\".join(value)\n",
    "\n",
    "\n",
    "class S(Letter):\n",
    "    def __init__(self):\n",
    "        pattern = ['.', '.', '.']\n",
    "        super().__init__(pattern)\n"
   ]
  },
  {
   "cell_type": "code",
   "execution_count": 47,
   "metadata": {},
   "outputs": [
    {
     "name": "stdout",
     "output_type": "stream",
     "text": [
      "dot-dash-dot\n"
     ]
    }
   ],
   "source": [
    "pattern = ['.', '_', '.']\n",
    "\n",
    "value = []\n",
    "for i in pattern:\n",
    "    if i == \".\":\n",
    "        value.append(\"dot\")\n",
    "    elif i == \"_\":\n",
    "        value.append(\"dash\")\n",
    "value = \"-\".join(value)        \n",
    "print(value)"
   ]
  },
  {
   "cell_type": "code",
   "execution_count": 51,
   "metadata": {},
   "outputs": [
    {
     "name": "stdout",
     "output_type": "stream",
     "text": [
      "5\n",
      "5\n",
      "5\n",
      "5\n",
      "5.0\n",
      "54\n",
      "54\n"
     ]
    }
   ],
   "source": [
    "class Numstring:\n",
    "    def __init__(self, value):\n",
    "        self.value = str(value)\n",
    "    \n",
    "    def __str__(self):\n",
    "        return self.value\n",
    "    \n",
    "    def __int__(self):\n",
    "        return int(self.value)\n",
    "    \n",
    "    def __float__(self):\n",
    "        return float(self.value)\n",
    "    \n",
    "    def __add__(self, other):\n",
    "        return self.value + str(other)\n",
    "\n",
    "five = Numstring(5)    \n",
    "print (five)\n",
    "print(str(five))\n",
    "print(five)\n",
    "print(int(five))\n",
    "print(float(five))\n",
    "print(five + 4)\n",
    "print(five + Numstring(4))"
   ]
  },
  {
   "cell_type": "code",
   "execution_count": 54,
   "metadata": {},
   "outputs": [
    {
     "name": "stdout",
     "output_type": "stream",
     "text": [
      "5\n",
      "5\n",
      "5\n",
      "5\n",
      "5.0\n",
      "9\n",
      "9\n"
     ]
    },
    {
     "ename": "TypeError",
     "evalue": "unsupported operand type(s) for +: 'int' and 'Numstring'",
     "output_type": "error",
     "traceback": [
      "\u001b[1;31m---------------------------------------------------------------------------\u001b[0m",
      "\u001b[1;31mTypeError\u001b[0m                                 Traceback (most recent call last)",
      "\u001b[1;32m<ipython-input-54-c572192a0141>\u001b[0m in \u001b[0;36m<module>\u001b[1;34m\u001b[0m\n\u001b[0;32m     25\u001b[0m \u001b[0mprint\u001b[0m\u001b[1;33m(\u001b[0m\u001b[0mfive\u001b[0m \u001b[1;33m+\u001b[0m \u001b[1;36m4\u001b[0m\u001b[1;33m)\u001b[0m\u001b[1;33m\u001b[0m\u001b[1;33m\u001b[0m\u001b[0m\n\u001b[0;32m     26\u001b[0m \u001b[0mprint\u001b[0m\u001b[1;33m(\u001b[0m\u001b[0mNumstring\u001b[0m\u001b[1;33m(\u001b[0m\u001b[1;36m4\u001b[0m\u001b[1;33m)\u001b[0m \u001b[1;33m+\u001b[0m \u001b[1;36m5\u001b[0m\u001b[1;33m)\u001b[0m\u001b[1;33m\u001b[0m\u001b[1;33m\u001b[0m\u001b[0m\n\u001b[1;32m---> 27\u001b[1;33m \u001b[0mprint\u001b[0m\u001b[1;33m(\u001b[0m\u001b[0mfive\u001b[0m \u001b[1;33m+\u001b[0m \u001b[0mNumstring\u001b[0m\u001b[1;33m(\u001b[0m\u001b[1;36m4\u001b[0m\u001b[1;33m)\u001b[0m\u001b[1;33m)\u001b[0m \u001b[1;31m#error\u001b[0m\u001b[1;33m\u001b[0m\u001b[1;33m\u001b[0m\u001b[0m\n\u001b[0m",
      "\u001b[1;32m<ipython-input-54-c572192a0141>\u001b[0m in \u001b[0;36m__add__\u001b[1;34m(self, other)\u001b[0m\n\u001b[0;32m     15\u001b[0m         \u001b[1;32mif\u001b[0m \u001b[1;34m'.'\u001b[0m \u001b[1;32min\u001b[0m \u001b[0mself\u001b[0m\u001b[1;33m.\u001b[0m\u001b[0mvalue\u001b[0m\u001b[1;33m:\u001b[0m\u001b[1;33m\u001b[0m\u001b[1;33m\u001b[0m\u001b[0m\n\u001b[0;32m     16\u001b[0m             \u001b[1;32mreturn\u001b[0m \u001b[0mfloat\u001b[0m\u001b[1;33m(\u001b[0m\u001b[0mself\u001b[0m\u001b[1;33m)\u001b[0m \u001b[1;33m+\u001b[0m \u001b[0mother\u001b[0m\u001b[1;33m\u001b[0m\u001b[1;33m\u001b[0m\u001b[0m\n\u001b[1;32m---> 17\u001b[1;33m         \u001b[1;32mreturn\u001b[0m \u001b[0mint\u001b[0m\u001b[1;33m(\u001b[0m\u001b[0mself\u001b[0m\u001b[1;33m)\u001b[0m \u001b[1;33m+\u001b[0m \u001b[0mother\u001b[0m\u001b[1;33m\u001b[0m\u001b[1;33m\u001b[0m\u001b[0m\n\u001b[0m\u001b[0;32m     18\u001b[0m \u001b[1;33m\u001b[0m\u001b[0m\n\u001b[0;32m     19\u001b[0m \u001b[0mfive\u001b[0m \u001b[1;33m=\u001b[0m \u001b[0mNumstring\u001b[0m\u001b[1;33m(\u001b[0m\u001b[1;36m5\u001b[0m\u001b[1;33m)\u001b[0m\u001b[1;33m\u001b[0m\u001b[1;33m\u001b[0m\u001b[0m\n",
      "\u001b[1;31mTypeError\u001b[0m: unsupported operand type(s) for +: 'int' and 'Numstring'"
     ]
    }
   ],
   "source": [
    "class Numstring:\n",
    "    def __init__(self, value):\n",
    "        self.value = str(value)\n",
    "    \n",
    "    def __str__(self):\n",
    "        return self.value\n",
    "    \n",
    "    def __int__(self):\n",
    "        return int(self.value)\n",
    "    \n",
    "    def __float__(self):\n",
    "        return float(self.value)\n",
    "    \n",
    "    def __add__(self, other):\n",
    "        if '.' in self.value:\n",
    "            return float(self) + other\n",
    "        return int(self) + other\n",
    "\n",
    "five = Numstring(5)    \n",
    "print (five)\n",
    "print(str(five))\n",
    "print(five)\n",
    "print(int(five))\n",
    "print(float(five))\n",
    "print(five + 4)\n",
    "print(Numstring(4) + 5)\n",
    "print(five + Numstring(4)) #error"
   ]
  },
  {
   "cell_type": "code",
   "execution_count": 55,
   "metadata": {},
   "outputs": [
    {
     "name": "stdout",
     "output_type": "stream",
     "text": [
      "5\n",
      "5\n",
      "5\n",
      "5\n",
      "5.0\n",
      "9\n",
      "9\n",
      "9\n"
     ]
    }
   ],
   "source": [
    "class Numstring:\n",
    "    def __init__(self, value):\n",
    "        self.value = str(value)\n",
    "    \n",
    "    def __str__(self):\n",
    "        return self.value\n",
    "    \n",
    "    def __int__(self):\n",
    "        return int(self.value)\n",
    "    \n",
    "    def __float__(self):\n",
    "        return float(self.value)\n",
    "    \n",
    "    def __add__(self, other):\n",
    "        if '.' in self.value:\n",
    "            return float(self) + other\n",
    "        return int(self) + other\n",
    "    \n",
    "    def __radd__(self, other):\n",
    "        return self + other\n",
    "    \n",
    "    def __iadd__(self, other):\n",
    "        self.value =  self + other\n",
    "        return self.value\n",
    "\n",
    "five = Numstring(5)    \n",
    "print (five)\n",
    "print(str(five))\n",
    "print(five)\n",
    "print(int(five))\n",
    "print(float(five))\n",
    "print(five + 4)\n",
    "print(Numstring(4) + 5)\n",
    "print(five + Numstring(4))"
   ]
  },
  {
   "cell_type": "markdown",
   "metadata": {},
   "source": [
    "Challenge Task 1 of 2\n",
    "\n",
    "This class should look familiar!\n",
    "\n",
    "I need to you add __mul__ to NumString so we can multiply our number string by a number. Go ahead and add __rmul__, too."
   ]
  },
  {
   "cell_type": "code",
   "execution_count": null,
   "metadata": {},
   "outputs": [],
   "source": [
    "class NumString:\n",
    "    def __init__(self, value):\n",
    "        self.value = str(value)\n",
    "\n",
    "    def __str__(self):\n",
    "         return self.value\n",
    "\n",
    "    def __int__(self):\n",
    "        return int(self.value)\n",
    "\n",
    "    def __float__(self):\n",
    "        return float(self.value)\n",
    "    \n",
    "    def __add__(self, other):\n",
    "        if '.' in self.value:\n",
    "            return float(self) + other\n",
    "        return int(self) + other\n",
    "      \n",
    "    def __radd__(self, other):\n",
    "        return self + other\n",
    "    \n",
    "    def __iadd__(self, other):\n",
    "        self.value = self + other\n",
    "        return self.value\n",
    "    \n",
    "    def __mul__(self, other):\n",
    "        if '.' in self.value:\n",
    "            return float(self) * other\n",
    "        return int(self) * other\n",
    "    \n",
    "    def __rmul__(self, other):\n",
    "        self.value = self * other\n",
    "        return self.value"
   ]
  },
  {
   "cell_type": "markdown",
   "metadata": {},
   "source": [
    "Challenge Task 2 of 2\n",
    "\n",
    "Now wrap it up by adding in __imul__, which does in-place multiplication. Be sure to update self.value!"
   ]
  },
  {
   "cell_type": "code",
   "execution_count": 56,
   "metadata": {},
   "outputs": [],
   "source": [
    "class NumString:\n",
    "    def __init__(self, value):\n",
    "        self.value = str(value)\n",
    "\n",
    "    def __str__(self):\n",
    "         return self.value\n",
    "\n",
    "    def __int__(self):\n",
    "        return int(self.value)\n",
    "\n",
    "    def __float__(self):\n",
    "        return float(self.value)\n",
    "    \n",
    "    def __add__(self, other):\n",
    "        if '.' in self.value:\n",
    "            return float(self) + other\n",
    "        return int(self) + other\n",
    "      \n",
    "    def __radd__(self, other):\n",
    "        return self + other\n",
    "    \n",
    "    def __iadd__(self, other):\n",
    "        self.value = self + other\n",
    "        return self.value\n",
    "    \n",
    "    def __mul__(self, other):\n",
    "        if '.' in self.value:\n",
    "            return float(self) * other\n",
    "        return int(self) * other\n",
    "    \n",
    "    def __rmul__(self, other):\n",
    "        self.value = self * other\n",
    "        return self.value\n",
    "\n",
    "    def __imul__(self, other):\n",
    "        self.value = self * other\n",
    "        return self.value\n"
   ]
  },
  {
   "cell_type": "code",
   "execution_count": 57,
   "metadata": {},
   "outputs": [
    {
     "ename": "NameError",
     "evalue": "name 'Item' is not defined",
     "output_type": "error",
     "traceback": [
      "\u001b[1;31m---------------------------------------------------------------------------\u001b[0m",
      "\u001b[1;31mNameError\u001b[0m                                 Traceback (most recent call last)",
      "\u001b[1;32m<ipython-input-57-b49609d97ea8>\u001b[0m in \u001b[0;36m<module>\u001b[1;34m\u001b[0m\n\u001b[0;32m      9\u001b[0m         \u001b[1;32mreturn\u001b[0m \u001b[0mlen\u001b[0m\u001b[1;33m(\u001b[0m\u001b[0mself\u001b[0m\u001b[1;33m.\u001b[0m\u001b[0mslots\u001b[0m\u001b[1;33m)\u001b[0m\u001b[1;33m\u001b[0m\u001b[1;33m\u001b[0m\u001b[0m\n\u001b[0;32m     10\u001b[0m \u001b[1;33m\u001b[0m\u001b[0m\n\u001b[1;32m---> 11\u001b[1;33m \u001b[0mcoin\u001b[0m \u001b[1;33m=\u001b[0m \u001b[0mItem\u001b[0m\u001b[1;33m(\u001b[0m\u001b[1;34m'coin'\u001b[0m\u001b[1;33m,\u001b[0m\u001b[1;34m'a gold coin'\u001b[0m\u001b[1;33m)\u001b[0m\u001b[1;33m\u001b[0m\u001b[1;33m\u001b[0m\u001b[0m\n\u001b[0m\u001b[0;32m     12\u001b[0m \u001b[0minventory\u001b[0m \u001b[1;33m=\u001b[0m \u001b[0mInventory\u001b[0m\u001b[1;33m(\u001b[0m\u001b[1;33m)\u001b[0m\u001b[1;33m\u001b[0m\u001b[1;33m\u001b[0m\u001b[0m\n\u001b[0;32m     13\u001b[0m \u001b[0minventory\u001b[0m\u001b[1;33m.\u001b[0m\u001b[0mad\u001b[0m\u001b[1;33m(\u001b[0m\u001b[0mcoin\u001b[0m\u001b[1;33m)\u001b[0m\u001b[1;33m\u001b[0m\u001b[1;33m\u001b[0m\u001b[0m\n",
      "\u001b[1;31mNameError\u001b[0m: name 'Item' is not defined"
     ]
    }
   ],
   "source": [
    "class Inventory:\n",
    "    def __init__(self):\n",
    "        self.slots=[]\n",
    "        \n",
    "    def add(self, item):\n",
    "        self.slots.append(item)\n",
    "        \n",
    "    def __len__(self):\n",
    "        return len(self.slots)\n",
    "    \n",
    "coin = Item('coin','a gold coin')\n",
    "inventory = Inventory()\n",
    "inventory.ad(coin)\n",
    "\n",
    "print(len(inventory))"
   ]
  },
  {
   "cell_type": "markdown",
   "metadata": {},
   "source": [
    "Challenge Task 1 of 1\n",
    "\n",
    "Let's make our Letter class better for our Morse code challenge. Add an __iter__ method to the Letter class so the letter's pattern can be iterated through. You'll want to use yield or yield from.\n",
    "\n",
    "Do not convert the pattern to dots and dashes in __iter__."
   ]
  },
  {
   "cell_type": "code",
   "execution_count": null,
   "metadata": {},
   "outputs": [],
   "source": [
    "class Letter:\n",
    "    def __init__(self, pattern=None):\n",
    "        self.pattern = pattern\n",
    "\n",
    "    def __str__(self):\n",
    "        output = []\n",
    "        for blip in self.pattern:\n",
    "            if blip == '.':\n",
    "                output.append('dot')\n",
    "            else:\n",
    "                output.append('dash')\n",
    "        return '-'.join(output)\n",
    "\n",
    "    def __iter__(self):\n",
    "        yield from self.pattern\n",
    "\n",
    "        \n",
    "class S(Letter):\n",
    "    def __init__(self):\n",
    "         pattern = ['.', '.', '.']\n",
    "         super().__init__(pattern)"
   ]
  },
  {
   "cell_type": "code",
   "execution_count": 59,
   "metadata": {},
   "outputs": [
    {
     "name": "stdout",
     "output_type": "stream",
     "text": [
      "olleH\n"
     ]
    }
   ],
   "source": [
    "class ReversedStr(str):\n",
    "    def __new__(*args, **kwargs):\n",
    "        self = str.__new__(*args, **kwargs)\n",
    "        self = self[::-1]\n",
    "        return self\n",
    "\n",
    "rs = ReversedStr('Hello')\n",
    "print(rs)"
   ]
  },
  {
   "cell_type": "code",
   "execution_count": 68,
   "metadata": {},
   "outputs": [
    {
     "name": "stdout",
     "output_type": "stream",
     "text": [
      "9\n",
      "[2, 2, 2, 2, 2, 2, 2, 2, 2]\n",
      "2\n",
      "[[1, 2, 3], [1, 2, 3]]\n",
      "[[1, 5, 3], [1, 2, 3]]\n"
     ]
    }
   ],
   "source": [
    "import copy\n",
    "\n",
    "class FilledList(list):\n",
    "    def __init__(self, count, value, *args, **kwargs):\n",
    "        super().__init__()\n",
    "        for _ in range(count):\n",
    "            self.append(copy.copy(value))\n",
    "\n",
    "fl = FilledList(9, 2)\n",
    "print(len(fl))\n",
    "print(fl)\n",
    "fl2 = FilledList(2,[1,2,3])\n",
    "print(len(fl2))\n",
    "print(fl2)\n",
    "fl2[0][1]=5\n",
    "print(fl2)"
   ]
  },
  {
   "cell_type": "code",
   "execution_count": 72,
   "metadata": {},
   "outputs": [
    {
     "name": "stdout",
     "output_type": "stream",
     "text": [
      "MD\n",
      "Python\n"
     ]
    },
    {
     "ename": "AttributeError",
     "evalue": "'JavaScriptObject' object has no attribute 'fake'",
     "output_type": "error",
     "traceback": [
      "\u001b[1;31m---------------------------------------------------------------------------\u001b[0m",
      "\u001b[1;31mKeyError\u001b[0m                                  Traceback (most recent call last)",
      "\u001b[1;32m<ipython-input-72-f9978e9efba2>\u001b[0m in \u001b[0;36m__getattribute__\u001b[1;34m(self, item)\u001b[0m\n\u001b[0;32m      3\u001b[0m         \u001b[1;32mtry\u001b[0m\u001b[1;33m:\u001b[0m\u001b[1;33m\u001b[0m\u001b[1;33m\u001b[0m\u001b[0m\n\u001b[1;32m----> 4\u001b[1;33m             \u001b[1;32mreturn\u001b[0m \u001b[0mself\u001b[0m\u001b[1;33m[\u001b[0m\u001b[0mitem\u001b[0m\u001b[1;33m]\u001b[0m\u001b[1;33m\u001b[0m\u001b[1;33m\u001b[0m\u001b[0m\n\u001b[0m\u001b[0;32m      5\u001b[0m         \u001b[1;32mexcept\u001b[0m \u001b[0mKeyError\u001b[0m\u001b[1;33m:\u001b[0m\u001b[1;33m\u001b[0m\u001b[1;33m\u001b[0m\u001b[0m\n",
      "\u001b[1;31mKeyError\u001b[0m: 'fake'",
      "\nDuring handling of the above exception, another exception occurred:\n",
      "\u001b[1;31mAttributeError\u001b[0m                            Traceback (most recent call last)",
      "\u001b[1;32m<ipython-input-72-f9978e9efba2>\u001b[0m in \u001b[0;36m<module>\u001b[1;34m\u001b[0m\n\u001b[0;32m     11\u001b[0m \u001b[0mprint\u001b[0m\u001b[1;33m(\u001b[0m\u001b[0mjso\u001b[0m\u001b[1;33m.\u001b[0m\u001b[0mname\u001b[0m\u001b[1;33m)\u001b[0m\u001b[1;33m\u001b[0m\u001b[1;33m\u001b[0m\u001b[0m\n\u001b[0;32m     12\u001b[0m \u001b[0mprint\u001b[0m\u001b[1;33m(\u001b[0m\u001b[0mjso\u001b[0m\u001b[1;33m.\u001b[0m\u001b[0mlanguage\u001b[0m\u001b[1;33m)\u001b[0m\u001b[1;33m\u001b[0m\u001b[1;33m\u001b[0m\u001b[0m\n\u001b[1;32m---> 13\u001b[1;33m \u001b[0mprint\u001b[0m\u001b[1;33m(\u001b[0m\u001b[0mjso\u001b[0m\u001b[1;33m.\u001b[0m\u001b[0mfake\u001b[0m\u001b[1;33m)\u001b[0m\u001b[1;33m\u001b[0m\u001b[1;33m\u001b[0m\u001b[0m\n\u001b[0m",
      "\u001b[1;32m<ipython-input-72-f9978e9efba2>\u001b[0m in \u001b[0;36m__getattribute__\u001b[1;34m(self, item)\u001b[0m\n\u001b[0;32m      4\u001b[0m             \u001b[1;32mreturn\u001b[0m \u001b[0mself\u001b[0m\u001b[1;33m[\u001b[0m\u001b[0mitem\u001b[0m\u001b[1;33m]\u001b[0m\u001b[1;33m\u001b[0m\u001b[1;33m\u001b[0m\u001b[0m\n\u001b[0;32m      5\u001b[0m         \u001b[1;32mexcept\u001b[0m \u001b[0mKeyError\u001b[0m\u001b[1;33m:\u001b[0m\u001b[1;33m\u001b[0m\u001b[1;33m\u001b[0m\u001b[0m\n\u001b[1;32m----> 6\u001b[1;33m             \u001b[1;32mreturn\u001b[0m \u001b[0msuper\u001b[0m\u001b[1;33m(\u001b[0m\u001b[1;33m)\u001b[0m\u001b[1;33m.\u001b[0m\u001b[0m__getattribute__\u001b[0m\u001b[1;33m(\u001b[0m\u001b[0mitem\u001b[0m\u001b[1;33m)\u001b[0m\u001b[1;33m\u001b[0m\u001b[1;33m\u001b[0m\u001b[0m\n\u001b[0m\u001b[0;32m      7\u001b[0m \u001b[1;33m\u001b[0m\u001b[0m\n\u001b[0;32m      8\u001b[0m \u001b[1;33m\u001b[0m\u001b[0m\n",
      "\u001b[1;31mAttributeError\u001b[0m: 'JavaScriptObject' object has no attribute 'fake'"
     ]
    }
   ],
   "source": [
    "class JavaScriptObject(dict):\n",
    "    def __getattribute__(self, item):\n",
    "        try:\n",
    "            return self[item]\n",
    "        except KeyError:\n",
    "            return super().__getattribute__(item)\n",
    "        \n",
    "\n",
    "jso = JavaScriptObject({'name':'MD'})\n",
    "jso.language = 'Python'\n",
    "print(jso.name)\n",
    "print(jso.language)\n",
    "print(jso.fake)"
   ]
  },
  {
   "cell_type": "markdown",
   "metadata": {},
   "source": [
    "Challenge Task 1 of 3\n",
    "\n",
    "Alright, time to subclass int.\n",
    "\n",
    "Make a class named Double that extends int. For now, just put pass inside the class."
   ]
  },
  {
   "cell_type": "code",
   "execution_count": null,
   "metadata": {},
   "outputs": [],
   "source": [
    "class Double(int):\n",
    "    pass"
   ]
  },
  {
   "cell_type": "markdown",
   "metadata": {},
   "source": [
    "Challenge Task 2 of 3\n",
    "\n",
    "Now override __new__. Create a new int instance from whatever is passed in as arguments and keyword arguments. Return that instance.\n",
    "\n",
    "You should remove the pass."
   ]
  },
  {
   "cell_type": "code",
   "execution_count": 75,
   "metadata": {},
   "outputs": [
    {
     "name": "stdout",
     "output_type": "stream",
     "text": [
      "5\n"
     ]
    }
   ],
   "source": [
    "class Double(int):\n",
    "    def __new__(*args, **kwargs):\n",
    "        return int.__new__(*args,**kwargs)\n",
    "    \n",
    "test = Double(5)\n",
    "print(test)"
   ]
  },
  {
   "cell_type": "markdown",
   "metadata": {},
   "source": [
    "Challenge Task 3 of 3\n",
    "\n",
    "And, finally, double (multiply by two) the int that you created in __new__. Return the new, doubled value. For example, Double(5) would return a 10."
   ]
  },
  {
   "cell_type": "code",
   "execution_count": 76,
   "metadata": {},
   "outputs": [
    {
     "name": "stdout",
     "output_type": "stream",
     "text": [
      "10\n"
     ]
    }
   ],
   "source": [
    "class Double(int):\n",
    "    def __new__(*args, **kwargs):\n",
    "        return 2*int.__new__(*args,**kwargs)\n",
    "    \n",
    "test = Double(5)\n",
    "print(test)"
   ]
  },
  {
   "cell_type": "markdown",
   "metadata": {},
   "source": [
    "Challenge Task 1 of 1\n",
    "\n",
    "Now I want you to make a subclass of list. Name it Liar.\n",
    "\n",
    "Override the __len__ method so that it always returns the wrong number of items in the list. For example, if a list has 5 members, the Liar class might say it has 8 or 2.\n",
    "\n",
    "You'll probably need super() for this."
   ]
  },
  {
   "cell_type": "code",
   "execution_count": 77,
   "metadata": {},
   "outputs": [],
   "source": [
    "import random\n",
    "\n",
    "\n",
    "class Liar(list):\n",
    "    def __init__(self,*arg):\n",
    "        self.arg = []\n",
    "    def __len__(self):\n",
    "        super().__len__()\n",
    "        randomNum = random.randint(0,10)\n",
    "        x = randomNum + len(self.arg)\n",
    "        return x\n"
   ]
  },
  {
   "cell_type": "code",
   "execution_count": 82,
   "metadata": {},
   "outputs": [
    {
     "name": "stdout",
     "output_type": "stream",
     "text": [
      "<__main__.Bookcase object at 0x00000000051D8400>\n",
      "[<__main__.Book object at 0x00000000051D8320>, <__main__.Book object at 0x00000000051D8470>]\n",
      "Moby-Dick by Herman Nelville\n"
     ]
    }
   ],
   "source": [
    "class Book:\n",
    "    def __init__(self, title, author):\n",
    "        self.title = title\n",
    "        self.author = author\n",
    "        \n",
    "    def __str__(self):\n",
    "        return '{} by {}'.format(self.title, self.author)\n",
    "\n",
    "class Bookcase:\n",
    "    def __init__(self, books=None):\n",
    "        self.books = books\n",
    "        \n",
    "    @classmethod\n",
    "    def create_bookcase(cls, book_list):\n",
    "        books = []\n",
    "        for title, author in book_list:\n",
    "            books.append(Book(title, author))\n",
    "        return cls(books)\n",
    "    \n",
    "bc = Bookcase.create_bookcase([(\"Moby-Dick\",\"Herman Nelville\"),(\"Jungle Book\",\"Rudyard Kipling\")])\n",
    "print(bc)\n",
    "print(bc.books)\n",
    "print(bc.books[0])"
   ]
  },
  {
   "cell_type": "markdown",
   "metadata": {},
   "source": [
    "Challenge Task 1 of 1\n",
    "\n",
    "Let's practice using @classmethod!\n",
    "\n",
    "Create a class method in Letter named from_string that takes a string like \"dash-dot\" and creates an instance with the correct pattern (['_', '.'])."
   ]
  },
  {
   "cell_type": "code",
   "execution_count": 83,
   "metadata": {},
   "outputs": [],
   "source": [
    "class Letter:\n",
    "    def __init__(self, pattern=None):\n",
    "        self.pattern = pattern\n",
    "      \n",
    "    def __iter__(self):\n",
    "        yield from self.pattern\n",
    "      \n",
    "    def __str__(self):\n",
    "        output = []\n",
    "        for blip in self:\n",
    "            if blip == '.':\n",
    "                output.append('dot')\n",
    "            else:\n",
    "                output.append('dash')\n",
    "        return '-'.join(output)\n",
    "    \n",
    "    @classmethod\n",
    "    def from_string(cls, string):\n",
    "        stringList = string.split('-')\n",
    "        patternList = []\n",
    "        for blip in stringList:\n",
    "            if (blip.lower() == 'dash'):\n",
    "                patternList.append('_')\n",
    "            elif (blip.lower() == 'dot'):\n",
    "                patternList.append('.')\n",
    "            else:\n",
    "                pass\n",
    "        return cls(patternList)\n",
    "\n",
    "    \n",
    "class S(Letter):\n",
    "    def __init__(self):\n",
    "         pattern = ['.', '.', '.']\n",
    "         super().__init__(pattern)"
   ]
  },
  {
   "cell_type": "code",
   "execution_count": 93,
   "metadata": {},
   "outputs": [
    {
     "name": "stdout",
     "output_type": "stream",
     "text": [
      "Seciurity\n",
      "Seciurity\n"
     ]
    }
   ],
   "source": [
    "class Protected:\n",
    "    __name = \"Seciurity\"\n",
    "    \n",
    "    def __method(self):\n",
    "        return self.__name\n",
    "    \n",
    "    \n",
    "prot = Protected()\n",
    "#print(prot.__name) #AttributeError\n",
    "#print(prot.__method) #AttributeError\n",
    "dir(prot)\n",
    "print(prot._Protected__method())\n",
    "print(prot._Protected__name)"
   ]
  },
  {
   "cell_type": "code",
   "execution_count": 95,
   "metadata": {},
   "outputs": [
    {
     "name": "stdout",
     "output_type": "stream",
     "text": [
      "10\n",
      "5.0\n",
      "20\n"
     ]
    }
   ],
   "source": [
    "class Circle:\n",
    "    def __init__(self, diameter):\n",
    "        self.diameter = diameter\n",
    "    \n",
    "    @property\n",
    "    def radius(self):\n",
    "        return self.diameter/2\n",
    "    \n",
    "    @radius.setter\n",
    "    def radius(self, radius):\n",
    "        self.diameter = radius * 2\n",
    "    \n",
    "small = Circle(10)\n",
    "print(small.diameter)\n",
    "print(small.radius)\n",
    "small.radius = 10\n",
    "print(small.diameter)"
   ]
  },
  {
   "cell_type": "markdown",
   "metadata": {},
   "source": [
    "Challenge Task 1 of 2\n",
    "\n",
    "Add a new property to the Rectangle class named area. It should calculate and return the area of the Rectangle instance (width * length)."
   ]
  },
  {
   "cell_type": "code",
   "execution_count": 96,
   "metadata": {},
   "outputs": [],
   "source": [
    "class Rectangle:\n",
    "    def __init__(self, width, length):\n",
    "        self.width = width\n",
    "        self.length = length\n",
    "        \n",
    "    @property\n",
    "    def area(self):\n",
    "        return (self.width * self.length)\n"
   ]
  },
  {
   "cell_type": "markdown",
   "metadata": {},
   "source": [
    "Challenge Task 2 of 2\n",
    "\n",
    "Let's add one more property to our Rectangle class. This time, add a perimeter property that returns the perimeter of the rectangle (length * 2 + width * 2)."
   ]
  },
  {
   "cell_type": "code",
   "execution_count": 97,
   "metadata": {},
   "outputs": [],
   "source": [
    "class Rectangle:\n",
    "    def __init__(self, width, length):\n",
    "        self.width = width\n",
    "        self.length = length\n",
    "        \n",
    "    @property\n",
    "    def area(self):\n",
    "        return (self.width * self.length)\n",
    "    \n",
    "    @property\n",
    "    def perimeter(self):\n",
    "        return (self.width * 2 + self.length * 2)"
   ]
  },
  {
   "cell_type": "markdown",
   "metadata": {},
   "source": [
    "Challenge Task 1 of 1\n",
    "\n",
    "We need to be able to set the price of a product through a property setter.\n",
    "\n",
    "Add a new setter (@price.setter) method to the Product class that updates the _price attribute. "
   ]
  },
  {
   "cell_type": "code",
   "execution_count": 98,
   "metadata": {},
   "outputs": [],
   "source": [
    "class Product:\n",
    "    _price = 0.0\n",
    "    tax_rate = 0.12\n",
    "  \n",
    "    def __init__(self, base_price):\n",
    "        self._price = base_price\n",
    "    \n",
    "    @property\n",
    "    def price(self):\n",
    "        return self._price + (self._price * self.tax_rate)\n",
    "    \n",
    "    @price.setter\n",
    "    def price(self, price):\n",
    "        self._price = price / round(1 + self.tax_rate)\n"
   ]
  },
  {
   "cell_type": "code",
   "execution_count": null,
   "metadata": {},
   "outputs": [],
   "source": []
  }
 ],
 "metadata": {
  "kernelspec": {
   "display_name": "Python 3",
   "language": "python",
   "name": "python3"
  },
  "language_info": {
   "codemirror_mode": {
    "name": "ipython",
    "version": 3
   },
   "file_extension": ".py",
   "mimetype": "text/x-python",
   "name": "python",
   "nbconvert_exporter": "python",
   "pygments_lexer": "ipython3",
   "version": "3.7.1"
  }
 },
 "nbformat": 4,
 "nbformat_minor": 2
}
